{
 "cells": [
  {
   "cell_type": "markdown",
   "metadata": {
    "colab_type": "text",
    "id": "4qvMEEerv6y_"
   },
   "source": [
    "# Workshop de programação na prática com Python\n",
    "\n",
    "## Tipos de dados (Básicos)\n",
    "\n",
    "\n",
    "---\n",
    "\n"
   ]
  },
  {
   "cell_type": "markdown",
   "metadata": {
    "colab_type": "text",
    "id": "zlOkLRpcw1Z9"
   },
   "source": [
    "### Números:"
   ]
  },
  {
   "cell_type": "markdown",
   "metadata": {
    "colab_type": "text",
    "id": "yrubax3GgN8C"
   },
   "source": [
    "#### Inteiros"
   ]
  },
  {
   "cell_type": "code",
   "execution_count": 92,
   "metadata": {},
   "outputs": [
    {
     "name": "stdout",
     "output_type": "stream",
     "text": [
      "\n",
      " Número inteiro, base 10:\n",
      "<class 'int'>\n",
      "42\n"
     ]
    }
   ],
   "source": [
    "# Número inteiro, base 10\n",
    "print('\\n Número inteiro, base 10:')\n",
    "número_inteiro = 42\n",
    "print(type(número_inteiro))\n",
    "print(número_inteiro)"
   ]
  },
  {
   "cell_type": "code",
   "execution_count": 93,
   "metadata": {},
   "outputs": [
    {
     "name": "stdout",
     "output_type": "stream",
     "text": [
      "\n",
      " Número inteiro binário, base 2:\n",
      "<class 'int'>\n",
      "30\n"
     ]
    }
   ],
   "source": [
    "# Número inteiro binário, base 2\n",
    "print('\\n Número inteiro binário, base 2:')\n",
    "número_binário = 0b011110\n",
    "print(type(número_binário))\n",
    "print(número_binário)"
   ]
  },
  {
   "cell_type": "code",
   "execution_count": 94,
   "metadata": {},
   "outputs": [
    {
     "name": "stdout",
     "output_type": "stream",
     "text": [
      "\n",
      " Número inteiro octal, base 8:\n",
      "<class 'int'>\n",
      "8\n"
     ]
    }
   ],
   "source": [
    "# Número inteiro octal, base 8\n",
    "print('\\n Número inteiro octal, base 8:')\n",
    "número_octal = 0o10\n",
    "print(type(número_octal))\n",
    "print(número_octal)"
   ]
  },
  {
   "cell_type": "code",
   "execution_count": 95,
   "metadata": {
    "colab": {
     "base_uri": "https://localhost:8080/",
     "height": 295
    },
    "colab_type": "code",
    "id": "SxySjuRmxHpE",
    "outputId": "ecc296fb-6554-40fb-db2c-5098ff8fad7b"
   },
   "outputs": [
    {
     "name": "stdout",
     "output_type": "stream",
     "text": [
      "\n",
      " Número inteiro hexadecimal, base 16:\n",
      "<class 'int'>\n",
      "16\n"
     ]
    }
   ],
   "source": [
    "# Número inteiro hexadecimal, base 16\n",
    "print('\\n Número inteiro hexadecimal, base 16:')\n",
    "número_hexadecimal = 0x10\n",
    "print(type(número_hexadecimal))\n",
    "print(número_hexadecimal)"
   ]
  },
  {
   "cell_type": "markdown",
   "metadata": {
    "colab_type": "text",
    "id": "b_xg_dXTGMdx"
   },
   "source": [
    "#### Decimais"
   ]
  },
  {
   "cell_type": "code",
   "execution_count": 96,
   "metadata": {
    "colab": {
     "base_uri": "https://localhost:8080/",
     "height": 86
    },
    "colab_type": "code",
    "id": "bSHx5NyLK1C1",
    "outputId": "3a5ce937-98ba-4ce2-aa57-48a9e6278681"
   },
   "outputs": [
    {
     "name": "stdout",
     "output_type": "stream",
     "text": [
      "\n",
      " Número decimal:\n",
      "<class 'float'>\n",
      "6.23\n"
     ]
    }
   ],
   "source": [
    "# Número inteiro decimal\n",
    "print('\\n Número decimal:')\n",
    "número_decimal = 6.23\n",
    "print(type(número_decimal))\n",
    "print(número_decimal)"
   ]
  },
  {
   "cell_type": "markdown",
   "metadata": {
    "colab_type": "text",
    "id": "bDc5ZgBLTYYN"
   },
   "source": [
    "#### Operações básicas com números:"
   ]
  },
  {
   "cell_type": "code",
   "execution_count": 97,
   "metadata": {},
   "outputs": [
    {
     "name": "stdout",
     "output_type": "stream",
     "text": [
      "\n",
      "Adição:\n",
      "21 + 21 = 42\n"
     ]
    }
   ],
   "source": [
    "print('\\nAdição:')\n",
    "adição = 21 + 21\n",
    "print('21 + 21 =', adição)"
   ]
  },
  {
   "cell_type": "code",
   "execution_count": 98,
   "metadata": {},
   "outputs": [
    {
     "name": "stdout",
     "output_type": "stream",
     "text": [
      "\n",
      "Subtração:\n",
      "82 - 40 = 42\n"
     ]
    }
   ],
   "source": [
    "print('\\nSubtração:')\n",
    "subtração = 82 - 40\n",
    "print('82 - 40 =', subtração)"
   ]
  },
  {
   "cell_type": "code",
   "execution_count": 99,
   "metadata": {},
   "outputs": [
    {
     "name": "stdout",
     "output_type": "stream",
     "text": [
      "\n",
      "Multiplicação:\n",
      "21.0 x 2 = 42.0\n"
     ]
    }
   ],
   "source": [
    "print('\\nMultiplicação:')\n",
    "multiplicação = 21.0 * 2\n",
    "print('21.0 x 2 =', multiplicação)"
   ]
  },
  {
   "cell_type": "code",
   "execution_count": 100,
   "metadata": {
    "colab": {
     "base_uri": "https://localhost:8080/",
     "height": 225
    },
    "colab_type": "code",
    "id": "MTgKFFv6Tg1T",
    "outputId": "600c71a7-e0c4-4ca6-a060-c2c0efa1e9ef"
   },
   "outputs": [
    {
     "name": "stdout",
     "output_type": "stream",
     "text": [
      "\n",
      "Divisão:\n",
      "84 ÷ 2 = 42\n"
     ]
    }
   ],
   "source": [
    "print('\\nDivisão:')\n",
    "divisão = 84 // 2\n",
    "print('84 ÷ 2 =', divisão)\n"
   ]
  },
  {
   "cell_type": "markdown",
   "metadata": {
    "colab_type": "text",
    "id": "7R_bOWEcQIre"
   },
   "source": [
    "### Booleano (Boolean)\n"
   ]
  },
  {
   "cell_type": "code",
   "execution_count": 101,
   "metadata": {},
   "outputs": [
    {
     "name": "stdout",
     "output_type": "stream",
     "text": [
      "\n",
      " Verdadeiro\n",
      "True\n",
      "<class 'bool'>\n"
     ]
    }
   ],
   "source": [
    "print('\\n Verdadeiro')\n",
    "verdadeiro = True\n",
    "print(verdadeiro)\n",
    "print(type(verdadeiro))"
   ]
  },
  {
   "cell_type": "code",
   "execution_count": 102,
   "metadata": {
    "colab": {
     "base_uri": "https://localhost:8080/",
     "height": 156
    },
    "colab_type": "code",
    "id": "TEYE0BH2QXtl",
    "outputId": "0721e82f-cad9-4922-a8e1-ef0daba79eec"
   },
   "outputs": [
    {
     "name": "stdout",
     "output_type": "stream",
     "text": [
      "\n",
      " Falso\n",
      "False\n",
      "<class 'bool'>\n"
     ]
    }
   ],
   "source": [
    "print('\\n Falso')\n",
    "falso = False\n",
    "print(falso)\n",
    "print(type(falso))"
   ]
  },
  {
   "cell_type": "markdown",
   "metadata": {},
   "source": [
    "### Comparações"
   ]
  },
  {
   "cell_type": "markdown",
   "metadata": {},
   "source": [
    "#### Comparação de igualdade:"
   ]
  },
  {
   "cell_type": "code",
   "execution_count": 123,
   "metadata": {},
   "outputs": [
    {
     "data": {
      "text/plain": [
       "False"
      ]
     },
     "execution_count": 123,
     "metadata": {},
     "output_type": "execute_result"
    }
   ],
   "source": [
    "2 + 3 == 1"
   ]
  },
  {
   "cell_type": "code",
   "execution_count": 124,
   "metadata": {},
   "outputs": [
    {
     "data": {
      "text/plain": [
       "True"
      ]
     },
     "execution_count": 124,
     "metadata": {},
     "output_type": "execute_result"
    }
   ],
   "source": [
    "2 + 3 == 5"
   ]
  },
  {
   "cell_type": "markdown",
   "metadata": {},
   "source": [
    "#### Maior/Menor que:"
   ]
  },
  {
   "cell_type": "code",
   "execution_count": 126,
   "metadata": {},
   "outputs": [
    {
     "data": {
      "text/plain": [
       "True"
      ]
     },
     "execution_count": 126,
     "metadata": {},
     "output_type": "execute_result"
    }
   ],
   "source": [
    "# Maior que\n",
    "6 > 3"
   ]
  },
  {
   "cell_type": "code",
   "execution_count": 127,
   "metadata": {},
   "outputs": [
    {
     "data": {
      "text/plain": [
       "False"
      ]
     },
     "execution_count": 127,
     "metadata": {},
     "output_type": "execute_result"
    }
   ],
   "source": [
    "# Menor que\n",
    "6 < 3"
   ]
  },
  {
   "cell_type": "markdown",
   "metadata": {},
   "source": [
    "\n",
    "\n",
    "## Estrutura de dados\n",
    "\n",
    "\n",
    "---"
   ]
  },
  {
   "cell_type": "markdown",
   "metadata": {},
   "source": [
    "### Listas:"
   ]
  },
  {
   "cell_type": "code",
   "execution_count": 103,
   "metadata": {
    "colab": {
     "base_uri": "https://localhost:8080/",
     "height": 69
    },
    "colab_type": "code",
    "id": "1-Eu01W_gi7B",
    "outputId": "9e23a41c-6ba2-4095-da4c-3060722964b7"
   },
   "outputs": [
    {
     "name": "stdout",
     "output_type": "stream",
     "text": [
      "\n",
      " Lista de frutas:\n",
      "['Maçã', 'Banana', 'Melão', 'Kiwi', 'Laranja', 'Maçã']\n"
     ]
    }
   ],
   "source": [
    "print('\\n Lista de frutas:')\n",
    "frutas = ['Maçã', 'Banana', 'Melão', 'Kiwi', 'Laranja', 'Maçã']\n",
    "print(frutas)\n"
   ]
  },
  {
   "cell_type": "markdown",
   "metadata": {
    "colab_type": "text",
    "id": "nTyav054iHyh"
   },
   "source": [
    "#### Acessando os items de uma lista:"
   ]
  },
  {
   "cell_type": "code",
   "execution_count": 104,
   "metadata": {
    "colab": {
     "base_uri": "https://localhost:8080/",
     "height": 104
    },
    "colab_type": "code",
    "id": "XYZk-loJhqSK",
    "outputId": "d4bf9888-2f24-44b5-82b0-c2f02987342c"
   },
   "outputs": [
    {
     "name": "stdout",
     "output_type": "stream",
     "text": [
      "Acessando item de uma lista\n",
      "\n",
      "Primeiro item de uma lista: Maçã\n",
      "Segundo item de uma lista: Banana\n",
      "Último item de uma lista: Maçã\n"
     ]
    }
   ],
   "source": [
    "print('Acessando item de uma lista\\n')\n",
    "print('Primeiro item de uma lista:', frutas[0])\n",
    "print('Segundo item de uma lista:', frutas[1])\n",
    "print('Último item de uma lista:', frutas[-1])"
   ]
  },
  {
   "cell_type": "markdown",
   "metadata": {
    "colab_type": "text",
    "id": "WfxfeXRFiUPC"
   },
   "source": [
    "#### Tamanho da Lista:"
   ]
  },
  {
   "cell_type": "code",
   "execution_count": 105,
   "metadata": {
    "colab": {
     "base_uri": "https://localhost:8080/",
     "height": 34
    },
    "colab_type": "code",
    "id": "Az3gdsQRiW9s",
    "outputId": "6455d509-64e5-4ff6-df3e-b33b737b76cb"
   },
   "outputs": [
    {
     "name": "stdout",
     "output_type": "stream",
     "text": [
      "Tamanho da lista: 6\n"
     ]
    }
   ],
   "source": [
    "print('Tamanho da lista:', len(frutas))"
   ]
  },
  {
   "cell_type": "markdown",
   "metadata": {},
   "source": [
    "#### Acesso/leitua a um item em uma lista:"
   ]
  },
  {
   "cell_type": "markdown",
   "metadata": {},
   "source": [
    "![alt text](https://files.realpython.com/media/t.c11ea56e8ca2.png)"
   ]
  },
  {
   "cell_type": "code",
   "execution_count": 106,
   "metadata": {},
   "outputs": [
    {
     "name": "stdout",
     "output_type": "stream",
     "text": [
      "Maçã\n",
      "Banana\n",
      "Melão\n",
      "Kiwi\n",
      "Laranja\n",
      "Maçã\n"
     ]
    }
   ],
   "source": [
    "print(frutas[0])\n",
    "print(frutas[1])\n",
    "print(frutas[2])\n",
    "print(frutas[3])\n",
    "print(frutas[4])\n",
    "print(frutas[5])"
   ]
  },
  {
   "cell_type": "code",
   "execution_count": 107,
   "metadata": {},
   "outputs": [
    {
     "name": "stdout",
     "output_type": "stream",
     "text": [
      "Maçã\n",
      "Banana\n",
      "Melão\n",
      "Kiwi\n",
      "Laranja\n",
      "Maçã\n"
     ]
    }
   ],
   "source": [
    "print(frutas[-6])\n",
    "print(frutas[-5])\n",
    "print(frutas[-4])\n",
    "print(frutas[-3])\n",
    "print(frutas[-2])\n",
    "print(frutas[-1])"
   ]
  },
  {
   "cell_type": "code",
   "execution_count": 108,
   "metadata": {
    "scrolled": true
   },
   "outputs": [
    {
     "ename": "IndexError",
     "evalue": "list index out of range",
     "output_type": "error",
     "traceback": [
      "\u001b[0;31m---------------------------------------------------------------------------\u001b[0m",
      "\u001b[0;31mIndexError\u001b[0m                                Traceback (most recent call last)",
      "\u001b[0;32m<ipython-input-108-6f97ac984294>\u001b[0m in \u001b[0;36m<module>\u001b[0;34m\u001b[0m\n\u001b[0;32m----> 1\u001b[0;31m \u001b[0mfrutas\u001b[0m\u001b[0;34m[\u001b[0m\u001b[0;36m6\u001b[0m\u001b[0;34m]\u001b[0m\u001b[0;34m\u001b[0m\u001b[0;34m\u001b[0m\u001b[0m\n\u001b[0m",
      "\u001b[0;31mIndexError\u001b[0m: list index out of range"
     ]
    }
   ],
   "source": [
    "frutas[6]"
   ]
  },
  {
   "cell_type": "markdown",
   "metadata": {
    "colab_type": "text",
    "id": "WAEhINmRllxz"
   },
   "source": [
    "#### Adicionando um item em uma lista"
   ]
  },
  {
   "cell_type": "code",
   "execution_count": null,
   "metadata": {},
   "outputs": [],
   "source": [
    "print('Adicionando um item no final de uma lista:\\n')\n",
    "print(frutas)\n",
    "frutas.append('Carambola')\n",
    "print(frutas)"
   ]
  },
  {
   "cell_type": "code",
   "execution_count": 109,
   "metadata": {
    "colab": {
     "base_uri": "https://localhost:8080/",
     "height": 173
    },
    "colab_type": "code",
    "id": "xG71LIbRlq90",
    "outputId": "c4ffff42-0026-4a16-d662-ba2353dde126"
   },
   "outputs": [
    {
     "name": "stdout",
     "output_type": "stream",
     "text": [
      "\n",
      "Adicionando um item em uma posição específica de uma lista:\n",
      "\n",
      "['Maçã', 'Banana', 'Melão', 'Kiwi', 'Laranja', 'Maçã']\n",
      "['Maçã', 'Banana', 'Caju', 'Melão', 'Kiwi', 'Laranja', 'Maçã']\n"
     ]
    }
   ],
   "source": [
    "print('\\nAdicionando um item em uma posição específica de uma lista:\\n')\n",
    "print(frutas)\n",
    "frutas.insert(2, 'Caju')\n",
    "print(frutas)"
   ]
  },
  {
   "cell_type": "markdown",
   "metadata": {
    "colab_type": "text",
    "id": "nhZTN6Hrnu6t"
   },
   "source": [
    "#### Ordenando uma lista:\n"
   ]
  },
  {
   "cell_type": "code",
   "execution_count": 110,
   "metadata": {
    "colab": {
     "base_uri": "https://localhost:8080/",
     "height": 69
    },
    "colab_type": "code",
    "id": "8_Dw7Jg2nxvl",
    "outputId": "bd55306b-04a4-49d7-f08c-84a87dd19175"
   },
   "outputs": [
    {
     "name": "stdout",
     "output_type": "stream",
     "text": [
      "Ordenando uma lista em ordem alfabética\n",
      "['Maçã', 'Banana', 'Caju', 'Melão', 'Kiwi', 'Laranja', 'Maçã']\n",
      "['Banana', 'Caju', 'Kiwi', 'Laranja', 'Maçã', 'Maçã', 'Melão']\n"
     ]
    }
   ],
   "source": [
    "print('Ordenando uma lista em ordem alfabética')\n",
    "print(frutas)\n",
    "frutas.sort()\n",
    "print(frutas)"
   ]
  },
  {
   "cell_type": "markdown",
   "metadata": {},
   "source": [
    "#### Apagando um item de uma lista:"
   ]
  },
  {
   "cell_type": "code",
   "execution_count": 111,
   "metadata": {},
   "outputs": [
    {
     "name": "stdout",
     "output_type": "stream",
     "text": [
      "['Banana', 'Caju', 'Kiwi', 'Laranja', 'Maçã', 'Maçã', 'Melão']\n",
      "['Banana', 'Caju', 'Kiwi', 'Laranja', 'Maçã', 'Melão']\n"
     ]
    }
   ],
   "source": [
    "print(frutas)\n",
    "del frutas[5]\n",
    "print(frutas)"
   ]
  },
  {
   "cell_type": "markdown",
   "metadata": {},
   "source": [
    "#### Substituindo um item:"
   ]
  },
  {
   "cell_type": "code",
   "execution_count": 112,
   "metadata": {},
   "outputs": [
    {
     "name": "stdout",
     "output_type": "stream",
     "text": [
      "['Banana', 'Caju', 'Kiwi', 'Laranja', 'Maçã', 'Melão']\n",
      "['Banana', 'Caju', 'Kiwi', 'Laranja', 'Maçã', 'Pera']\n"
     ]
    }
   ],
   "source": [
    "print(frutas)\n",
    "frutas[-1] = 'Pera'\n",
    "print(frutas)"
   ]
  },
  {
   "cell_type": "markdown",
   "metadata": {
    "colab_type": "text",
    "id": "y_bpTD41B2t0"
   },
   "source": [
    "#### Fatiando listas\n"
   ]
  },
  {
   "cell_type": "markdown",
   "metadata": {
    "colab_type": "text",
    "id": "5PmzLR0jKsAk"
   },
   "source": [
    "![alt text](https://files.realpython.com/media/t.c11ea56e8ca2.png)"
   ]
  },
  {
   "cell_type": "code",
   "execution_count": 113,
   "metadata": {},
   "outputs": [
    {
     "name": "stdout",
     "output_type": "stream",
     "text": [
      "\n",
      "Lista completa\n",
      "['Banana', 'Caju', 'Kiwi', 'Laranja', 'Maçã', 'Pera']\n"
     ]
    }
   ],
   "source": [
    "print('\\nLista completa')\n",
    "print(frutas)"
   ]
  },
  {
   "cell_type": "code",
   "execution_count": 114,
   "metadata": {},
   "outputs": [
    {
     "name": "stdout",
     "output_type": "stream",
     "text": [
      "\n",
      "Acessa os 3 primeiros items\n",
      "['Banana', 'Caju', 'Kiwi']\n",
      "['Banana', 'Caju', 'Kiwi']\n",
      "['Banana', 'Caju']\n"
     ]
    }
   ],
   "source": [
    "print('\\nAcessa os 3 primeiros items')\n",
    "print(frutas[0:3])\n",
    "print(frutas[:3])\n",
    "print(frutas[:-4])"
   ]
  },
  {
   "cell_type": "code",
   "execution_count": 115,
   "metadata": {},
   "outputs": [
    {
     "name": "stdout",
     "output_type": "stream",
     "text": [
      "\n",
      "Acessa uma faixa de items do meio da lista\n",
      "['Kiwi', 'Laranja', 'Maçã']\n"
     ]
    }
   ],
   "source": [
    "print('\\nAcessa uma faixa de items do meio da lista')\n",
    "print(frutas[2:5])"
   ]
  },
  {
   "cell_type": "code",
   "execution_count": 116,
   "metadata": {},
   "outputs": [
    {
     "name": "stdout",
     "output_type": "stream",
     "text": [
      "\n",
      "Acessa os 3 ultimos items da lista\n",
      "['Banana', 'Caju', 'Kiwi', 'Laranja', 'Maçã', 'Pera']\n",
      "['Maçã', 'Pera']\n",
      "['Laranja', 'Maçã', 'Pera']\n"
     ]
    }
   ],
   "source": [
    "print('\\nAcessa os 3 ultimos items da lista')\n",
    "print(frutas)\n",
    "print(frutas[4:])\n",
    "print(frutas[-3:])"
   ]
  },
  {
   "cell_type": "markdown",
   "metadata": {},
   "source": [
    "### Exercícios sobre Listas:"
   ]
  },
  {
   "cell_type": "code",
   "execution_count": null,
   "metadata": {},
   "outputs": [],
   "source": []
  },
  {
   "cell_type": "markdown",
   "metadata": {},
   "source": [
    "### Tuplas:"
   ]
  },
  {
   "cell_type": "code",
   "execution_count": 117,
   "metadata": {},
   "outputs": [
    {
     "name": "stdout",
     "output_type": "stream",
     "text": [
      "Tuplas\n",
      "('Batata', 'Beringela', 'Brocolis', 'Abobora')\n"
     ]
    }
   ],
   "source": [
    "print('Tuplas')\n",
    "legumes = ('Batata', 'Beringela', 'Brocolis', 'Abobora')\n",
    "print(legumes)"
   ]
  },
  {
   "cell_type": "markdown",
   "metadata": {},
   "source": [
    "##### Qual a difença entre Tuplas e Listas?"
   ]
  },
  {
   "cell_type": "code",
   "execution_count": 118,
   "metadata": {},
   "outputs": [
    {
     "ename": "TypeError",
     "evalue": "'tuple' object does not support item assignment",
     "output_type": "error",
     "traceback": [
      "\u001b[0;31m---------------------------------------------------------------------------\u001b[0m",
      "\u001b[0;31mTypeError\u001b[0m                                 Traceback (most recent call last)",
      "\u001b[0;32m<ipython-input-118-8b287a087eff>\u001b[0m in \u001b[0;36m<module>\u001b[0;34m\u001b[0m\n\u001b[0;32m----> 1\u001b[0;31m \u001b[0mlegumes\u001b[0m\u001b[0;34m[\u001b[0m\u001b[0;36m2\u001b[0m\u001b[0;34m]\u001b[0m \u001b[0;34m=\u001b[0m \u001b[0;34m'Abacaxi'\u001b[0m\u001b[0;34m\u001b[0m\u001b[0;34m\u001b[0m\u001b[0m\n\u001b[0m",
      "\u001b[0;31mTypeError\u001b[0m: 'tuple' object does not support item assignment"
     ]
    }
   ],
   "source": [
    "legumes[2] = 'Abacaxi'"
   ]
  },
  {
   "cell_type": "markdown",
   "metadata": {},
   "source": [
    "**_TUPLAS SÃO IMUTÁVEIS_**"
   ]
  },
  {
   "cell_type": "markdown",
   "metadata": {},
   "source": [
    "#### Tuplas podem conter elementos mutáveis:"
   ]
  },
  {
   "cell_type": "code",
   "execution_count": null,
   "metadata": {},
   "outputs": [],
   "source": [
    "tupla = (['Banana', 'Caju'], 'Carambola', 'Kiwi', 42 , 42.0)\n",
    "print(tupla)"
   ]
  },
  {
   "cell_type": "code",
   "execution_count": null,
   "metadata": {},
   "outputs": [],
   "source": [
    "print(type(tupla[0]))\n",
    "tupla[0].append('Abacaxi')\n",
    "print(tupla)"
   ]
  },
  {
   "cell_type": "markdown",
   "metadata": {},
   "source": [
    "#### Pra que usar? Ou Por que usar?"
   ]
  },
  {
   "cell_type": "markdown",
   "metadata": {},
   "source": [
    "Quando você precisa ter uma sequencia de valores ou coisa que não vão mudar enquanto código é executado"
   ]
  },
  {
   "cell_type": "markdown",
   "metadata": {},
   "source": [
    "### Dicionário:"
   ]
  },
  {
   "cell_type": "markdown",
   "metadata": {},
   "source": [
    "Um dicionário é uma estrutura de dados baseada em **_chave_** e **_valor_**, por exemplo:"
   ]
  },
  {
   "cell_type": "code",
   "execution_count": null,
   "metadata": {},
   "outputs": [],
   "source": [
    "pessoa = {'nome': 'Marcelo', 'idade': 33, 'sexo': 'Masculino', 'nacionalidade': 'Brasileiro'}\n",
    "print(pessoa)"
   ]
  },
  {
   "cell_type": "markdown",
   "metadata": {},
   "source": [
    "No exemplo a cima a temos a _nome, idade, sexo e nacionalidade_ como **_chave_** e _Marcelo, 33, Masculino e Brasileiro_  como o **_valor_** respectivamente."
   ]
  },
  {
   "cell_type": "markdown",
   "metadata": {},
   "source": [
    "#### Tamanho de um dicionário:"
   ]
  },
  {
   "cell_type": "code",
   "execution_count": null,
   "metadata": {},
   "outputs": [],
   "source": [
    "print(len(pessoa))"
   ]
  },
  {
   "cell_type": "markdown",
   "metadata": {},
   "source": [
    "#### Acessando o valor de uma chave:"
   ]
  },
  {
   "cell_type": "code",
   "execution_count": null,
   "metadata": {},
   "outputs": [],
   "source": [
    "pessoa['nome']"
   ]
  },
  {
   "cell_type": "code",
   "execution_count": null,
   "metadata": {},
   "outputs": [],
   "source": [
    "pessoa['estado']"
   ]
  },
  {
   "cell_type": "code",
   "execution_count": null,
   "metadata": {},
   "outputs": [],
   "source": [
    "estado = pessoa.get('estado')\n",
    "print(estado)"
   ]
  },
  {
   "cell_type": "markdown",
   "metadata": {},
   "source": [
    "### Sequencias de caracteres (Strings):"
   ]
  },
  {
   "cell_type": "code",
   "execution_count": null,
   "metadata": {
    "colab": {
     "base_uri": "https://localhost:8080/",
     "height": 52
    },
    "colab_type": "code",
    "id": "WgaiuWa1PMtJ",
    "outputId": "123e9021-add7-42bf-ed66-37c15feabd4a"
   },
   "outputs": [],
   "source": [
    "texto = 'IFSC - Lages'\n",
    "print(texto)\n",
    "print(type(texto))"
   ]
  },
  {
   "cell_type": "markdown",
   "metadata": {},
   "source": [
    "#### Capitalize:"
   ]
  },
  {
   "cell_type": "markdown",
   "metadata": {},
   "source": [
    "Deixa a primeira letra Maiúcula"
   ]
  },
  {
   "cell_type": "code",
   "execution_count": null,
   "metadata": {},
   "outputs": [],
   "source": [
    "'lages'.capitalize()"
   ]
  },
  {
   "cell_type": "code",
   "execution_count": null,
   "metadata": {},
   "outputs": [],
   "source": [
    "cidade = 'lages'\n",
    "cidade.capitalize()"
   ]
  },
  {
   "cell_type": "markdown",
   "metadata": {},
   "source": [
    "##### Upper(CapsLock):"
   ]
  },
  {
   "cell_type": "code",
   "execution_count": null,
   "metadata": {},
   "outputs": [],
   "source": [
    "'lages'.upper()"
   ]
  },
  {
   "cell_type": "markdown",
   "metadata": {},
   "source": [
    "#### Lower:"
   ]
  },
  {
   "cell_type": "code",
   "execution_count": null,
   "metadata": {},
   "outputs": [],
   "source": [
    "'LAGES'.lower()"
   ]
  },
  {
   "cell_type": "markdown",
   "metadata": {},
   "source": [
    "#### É um digito?"
   ]
  },
  {
   "cell_type": "code",
   "execution_count": 119,
   "metadata": {},
   "outputs": [
    {
     "data": {
      "text/plain": [
       "False"
      ]
     },
     "execution_count": 119,
     "metadata": {},
     "output_type": "execute_result"
    }
   ],
   "source": [
    "'Lages'.isdigit()\n"
   ]
  },
  {
   "cell_type": "code",
   "execution_count": 120,
   "metadata": {},
   "outputs": [
    {
     "data": {
      "text/plain": [
       "True"
      ]
     },
     "execution_count": 120,
     "metadata": {},
     "output_type": "execute_result"
    }
   ],
   "source": [
    "'12345678890'.isdigit()"
   ]
  },
  {
   "cell_type": "markdown",
   "metadata": {},
   "source": [
    "##### Acessando/lendo um caracter em um posição:"
   ]
  },
  {
   "cell_type": "code",
   "execution_count": 121,
   "metadata": {},
   "outputs": [
    {
     "name": "stdout",
     "output_type": "stream",
     "text": [
      "l\n",
      "a\n",
      "g\n",
      "e\n",
      "s\n"
     ]
    }
   ],
   "source": [
    "print(cidade[0])\n",
    "print(cidade[1])\n",
    "print(cidade[2])\n",
    "print(cidade[3])\n",
    "print(cidade[4])"
   ]
  },
  {
   "cell_type": "markdown",
   "metadata": {},
   "source": [
    "### Controle de fluxo"
   ]
  },
  {
   "cell_type": "markdown",
   "metadata": {},
   "source": [
    "#### If e condicionais:"
   ]
  },
  {
   "cell_type": "code",
   "execution_count": null,
   "metadata": {},
   "outputs": [],
   "source": []
  },
  {
   "cell_type": "markdown",
   "metadata": {},
   "source": [
    "#### Laços"
   ]
  },
  {
   "cell_type": "code",
   "execution_count": null,
   "metadata": {},
   "outputs": [],
   "source": []
  },
  {
   "cell_type": "markdown",
   "metadata": {},
   "source": [
    "### Funções"
   ]
  },
  {
   "cell_type": "code",
   "execution_count": null,
   "metadata": {},
   "outputs": [],
   "source": []
  },
  {
   "cell_type": "markdown",
   "metadata": {},
   "source": [
    "## TDD (Desenvolvimento guiado a testes)"
   ]
  },
  {
   "cell_type": "markdown",
   "metadata": {},
   "source": [
    "## Bora, colocar a mão na massa?"
   ]
  },
  {
   "cell_type": "markdown",
   "metadata": {},
   "source": [
    "### Coding Dojo"
   ]
  },
  {
   "cell_type": "markdown",
   "metadata": {},
   "source": [
    "#### Fizz Buzz:"
   ]
  }
 ],
 "metadata": {
  "colab": {
   "collapsed_sections": [],
   "name": "python_programming.ipynb",
   "provenance": [],
   "version": "0.3.2"
  },
  "kernelspec": {
   "display_name": "Python 3",
   "language": "python",
   "name": "python3"
  },
  "language_info": {
   "codemirror_mode": {
    "name": "ipython",
    "version": 3
   },
   "file_extension": ".py",
   "mimetype": "text/x-python",
   "name": "python",
   "nbconvert_exporter": "python",
   "pygments_lexer": "ipython3",
   "version": "3.7.3"
  }
 },
 "nbformat": 4,
 "nbformat_minor": 1
}
