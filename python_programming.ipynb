{
 "cells": [
  {
   "cell_type": "markdown",
   "metadata": {
    "colab_type": "text",
    "id": "4qvMEEerv6y_"
   },
   "source": [
    "# Workshop de programação na prática com Python\n",
    "\n",
    "---\n",
    "\n"
   ]
  },
  {
   "cell_type": "markdown",
   "metadata": {
    "colab_type": "text",
    "id": "zlOkLRpcw1Z9"
   },
   "source": [
    "### Números:"
   ]
  },
  {
   "cell_type": "markdown",
   "metadata": {
    "colab_type": "text",
    "id": "yrubax3GgN8C"
   },
   "source": [
    "#### Inteiros"
   ]
  },
  {
   "cell_type": "code",
   "execution_count": 19,
   "metadata": {},
   "outputs": [
    {
     "data": {
      "text/plain": [
       "42"
      ]
     },
     "execution_count": 19,
     "metadata": {},
     "output_type": "execute_result"
    }
   ],
   "source": [
    "42"
   ]
  },
  {
   "cell_type": "code",
   "execution_count": 22,
   "metadata": {},
   "outputs": [
    {
     "data": {
      "text/plain": [
       "1"
      ]
     },
     "execution_count": 22,
     "metadata": {},
     "output_type": "execute_result"
    }
   ],
   "source": [
    "0b000001"
   ]
  },
  {
   "cell_type": "code",
   "execution_count": 24,
   "metadata": {},
   "outputs": [
    {
     "data": {
      "text/plain": [
       "8"
      ]
     },
     "execution_count": 24,
     "metadata": {},
     "output_type": "execute_result"
    }
   ],
   "source": [
    "0o10"
   ]
  },
  {
   "cell_type": "code",
   "execution_count": 23,
   "metadata": {
    "colab": {
     "base_uri": "https://localhost:8080/",
     "height": 295
    },
    "colab_type": "code",
    "id": "SxySjuRmxHpE",
    "outputId": "ecc296fb-6554-40fb-db2c-5098ff8fad7b"
   },
   "outputs": [
    {
     "data": {
      "text/plain": [
       "16"
      ]
     },
     "execution_count": 23,
     "metadata": {},
     "output_type": "execute_result"
    }
   ],
   "source": [
    "0x10"
   ]
  },
  {
   "cell_type": "markdown",
   "metadata": {
    "colab_type": "text",
    "id": "b_xg_dXTGMdx"
   },
   "source": [
    "#### Decimais"
   ]
  },
  {
   "cell_type": "code",
   "execution_count": 25,
   "metadata": {
    "colab": {
     "base_uri": "https://localhost:8080/",
     "height": 86
    },
    "colab_type": "code",
    "id": "bSHx5NyLK1C1",
    "outputId": "3a5ce937-98ba-4ce2-aa57-48a9e6278681"
   },
   "outputs": [
    {
     "data": {
      "text/plain": [
       "6.23"
      ]
     },
     "execution_count": 25,
     "metadata": {},
     "output_type": "execute_result"
    }
   ],
   "source": [
    "6.23"
   ]
  },
  {
   "cell_type": "markdown",
   "metadata": {
    "colab_type": "text",
    "id": "bDc5ZgBLTYYN"
   },
   "source": [
    "#### Operações básicas com números:"
   ]
  },
  {
   "cell_type": "code",
   "execution_count": 26,
   "metadata": {},
   "outputs": [
    {
     "data": {
      "text/plain": [
       "42"
      ]
     },
     "execution_count": 26,
     "metadata": {},
     "output_type": "execute_result"
    }
   ],
   "source": [
    "21 + 21"
   ]
  },
  {
   "cell_type": "code",
   "execution_count": 27,
   "metadata": {},
   "outputs": [
    {
     "data": {
      "text/plain": [
       "42"
      ]
     },
     "execution_count": 27,
     "metadata": {},
     "output_type": "execute_result"
    }
   ],
   "source": [
    "82 - 40"
   ]
  },
  {
   "cell_type": "code",
   "execution_count": 28,
   "metadata": {},
   "outputs": [
    {
     "data": {
      "text/plain": [
       "42.0"
      ]
     },
     "execution_count": 28,
     "metadata": {},
     "output_type": "execute_result"
    }
   ],
   "source": [
    "21.0 * 2"
   ]
  },
  {
   "cell_type": "code",
   "execution_count": 30,
   "metadata": {
    "colab": {
     "base_uri": "https://localhost:8080/",
     "height": 225
    },
    "colab_type": "code",
    "id": "MTgKFFv6Tg1T",
    "outputId": "600c71a7-e0c4-4ca6-a060-c2c0efa1e9ef"
   },
   "outputs": [
    {
     "data": {
      "text/plain": [
       "42"
      ]
     },
     "execution_count": 30,
     "metadata": {},
     "output_type": "execute_result"
    }
   ],
   "source": [
    "84 // 2"
   ]
  },
  {
   "cell_type": "code",
   "execution_count": 31,
   "metadata": {},
   "outputs": [
    {
     "data": {
      "text/plain": [
       "42.0"
      ]
     },
     "execution_count": 31,
     "metadata": {},
     "output_type": "execute_result"
    }
   ],
   "source": [
    "84 /2"
   ]
  },
  {
   "cell_type": "markdown",
   "metadata": {
    "colab_type": "text",
    "id": "7R_bOWEcQIre"
   },
   "source": [
    "### Booleano (Boolean)\n"
   ]
  },
  {
   "cell_type": "code",
   "execution_count": 32,
   "metadata": {},
   "outputs": [
    {
     "data": {
      "text/plain": [
       "True"
      ]
     },
     "execution_count": 32,
     "metadata": {},
     "output_type": "execute_result"
    }
   ],
   "source": [
    "True"
   ]
  },
  {
   "cell_type": "code",
   "execution_count": 33,
   "metadata": {
    "colab": {
     "base_uri": "https://localhost:8080/",
     "height": 156
    },
    "colab_type": "code",
    "id": "TEYE0BH2QXtl",
    "outputId": "0721e82f-cad9-4922-a8e1-ef0daba79eec"
   },
   "outputs": [
    {
     "data": {
      "text/plain": [
       "False"
      ]
     },
     "execution_count": 33,
     "metadata": {},
     "output_type": "execute_result"
    }
   ],
   "source": [
    "False"
   ]
  },
  {
   "cell_type": "markdown",
   "metadata": {},
   "source": [
    "### Comparações"
   ]
  },
  {
   "cell_type": "markdown",
   "metadata": {},
   "source": [
    "#### Comparação de igualdade e diferença:"
   ]
  },
  {
   "cell_type": "code",
   "execution_count": 123,
   "metadata": {},
   "outputs": [
    {
     "data": {
      "text/plain": [
       "False"
      ]
     },
     "execution_count": 123,
     "metadata": {},
     "output_type": "execute_result"
    }
   ],
   "source": [
    "2 + 3 == 1"
   ]
  },
  {
   "cell_type": "code",
   "execution_count": 124,
   "metadata": {},
   "outputs": [
    {
     "data": {
      "text/plain": [
       "True"
      ]
     },
     "execution_count": 124,
     "metadata": {},
     "output_type": "execute_result"
    }
   ],
   "source": [
    "2 + 3 == 5"
   ]
  },
  {
   "cell_type": "code",
   "execution_count": 1,
   "metadata": {},
   "outputs": [
    {
     "data": {
      "text/plain": [
       "True"
      ]
     },
     "execution_count": 1,
     "metadata": {},
     "output_type": "execute_result"
    }
   ],
   "source": [
    "2 + 3 != 1"
   ]
  },
  {
   "cell_type": "markdown",
   "metadata": {},
   "source": [
    "#### Maior/Menor  ou igual:"
   ]
  },
  {
   "cell_type": "code",
   "execution_count": 126,
   "metadata": {},
   "outputs": [
    {
     "data": {
      "text/plain": [
       "True"
      ]
     },
     "execution_count": 126,
     "metadata": {},
     "output_type": "execute_result"
    }
   ],
   "source": [
    "# Maior que\n",
    "6 > 3"
   ]
  },
  {
   "cell_type": "code",
   "execution_count": 127,
   "metadata": {},
   "outputs": [
    {
     "data": {
      "text/plain": [
       "False"
      ]
     },
     "execution_count": 127,
     "metadata": {},
     "output_type": "execute_result"
    }
   ],
   "source": [
    "# Menor que\n",
    "6 < 3"
   ]
  },
  {
   "cell_type": "code",
   "execution_count": 2,
   "metadata": {},
   "outputs": [
    {
     "data": {
      "text/plain": [
       "True"
      ]
     },
     "execution_count": 2,
     "metadata": {},
     "output_type": "execute_result"
    }
   ],
   "source": [
    "6 <= 6"
   ]
  },
  {
   "cell_type": "code",
   "execution_count": 3,
   "metadata": {},
   "outputs": [
    {
     "data": {
      "text/plain": [
       "True"
      ]
     },
     "execution_count": 3,
     "metadata": {},
     "output_type": "execute_result"
    }
   ],
   "source": [
    "6 >= 6"
   ]
  },
  {
   "cell_type": "markdown",
   "metadata": {},
   "source": [
    "##### AND e OR"
   ]
  },
  {
   "cell_type": "code",
   "execution_count": 4,
   "metadata": {},
   "outputs": [
    {
     "data": {
      "text/plain": [
       "True"
      ]
     },
     "execution_count": 4,
     "metadata": {},
     "output_type": "execute_result"
    }
   ],
   "source": [
    "6 > 2 and 6 < 42"
   ]
  },
  {
   "cell_type": "code",
   "execution_count": 5,
   "metadata": {},
   "outputs": [
    {
     "data": {
      "text/plain": [
       "True"
      ]
     },
     "execution_count": 5,
     "metadata": {},
     "output_type": "execute_result"
    }
   ],
   "source": [
    "12 > 42 or 42 == 42"
   ]
  },
  {
   "cell_type": "markdown",
   "metadata": {},
   "source": [
    "### Variáveis:"
   ]
  },
  {
   "cell_type": "markdown",
   "metadata": {},
   "source": [
    "Variável é o \"rótulo\" ou \"etiqueca\" que você dá a algo que pode usar depois. Chamamos de variável pois você pode tirar esse \"rótulo\" ou \"etiqueta\" de algo e colocar em outra coisa."
   ]
  },
  {
   "cell_type": "code",
   "execution_count": 48,
   "metadata": {},
   "outputs": [
    {
     "data": {
      "text/plain": [
       "33"
      ]
     },
     "execution_count": 48,
     "metadata": {},
     "output_type": "execute_result"
    }
   ],
   "source": [
    "idade = 33 \n",
    "idade"
   ]
  },
  {
   "cell_type": "code",
   "execution_count": 49,
   "metadata": {},
   "outputs": [
    {
     "data": {
      "text/plain": [
       "22"
      ]
     },
     "execution_count": 49,
     "metadata": {},
     "output_type": "execute_result"
    }
   ],
   "source": [
    "idade = 22\n",
    "idade"
   ]
  },
  {
   "cell_type": "code",
   "execution_count": 56,
   "metadata": {},
   "outputs": [
    {
     "data": {
      "text/plain": [
       "144"
      ]
     },
     "execution_count": 56,
     "metadata": {},
     "output_type": "execute_result"
    }
   ],
   "source": [
    "resultado = 12 * 12\n",
    "resultado"
   ]
  },
  {
   "cell_type": "markdown",
   "metadata": {},
   "source": [
    "###### Você também pode usa-la em funções:"
   ]
  },
  {
   "cell_type": "code",
   "execution_count": 53,
   "metadata": {},
   "outputs": [
    {
     "name": "stdout",
     "output_type": "stream",
     "text": [
      "22\n"
     ]
    }
   ],
   "source": [
    "print(resultado)"
   ]
  },
  {
   "cell_type": "markdown",
   "metadata": {},
   "source": [
    "### Sequencias de caracteres (Strings):"
   ]
  },
  {
   "cell_type": "code",
   "execution_count": 12,
   "metadata": {
    "colab": {
     "base_uri": "https://localhost:8080/",
     "height": 52
    },
    "colab_type": "code",
    "id": "WgaiuWa1PMtJ",
    "outputId": "123e9021-add7-42bf-ed66-37c15feabd4a"
   },
   "outputs": [
    {
     "data": {
      "text/plain": [
       "'IFSC - Lages'"
      ]
     },
     "execution_count": 12,
     "metadata": {},
     "output_type": "execute_result"
    }
   ],
   "source": [
    "'IFSC - Lages'"
   ]
  },
  {
   "cell_type": "code",
   "execution_count": 11,
   "metadata": {},
   "outputs": [
    {
     "data": {
      "text/plain": [
       "str"
      ]
     },
     "execution_count": 11,
     "metadata": {},
     "output_type": "execute_result"
    }
   ],
   "source": [
    "type('IFSC - Lages')"
   ]
  },
  {
   "cell_type": "code",
   "execution_count": 8,
   "metadata": {},
   "outputs": [
    {
     "data": {
      "text/plain": [
       "'IFSC - Lages'"
      ]
     },
     "execution_count": 8,
     "metadata": {},
     "output_type": "execute_result"
    }
   ],
   "source": [
    "\"IFSC - Lages\""
   ]
  },
  {
   "cell_type": "markdown",
   "metadata": {},
   "source": [
    "##### Juntando strings:"
   ]
  },
  {
   "cell_type": "code",
   "execution_count": 16,
   "metadata": {},
   "outputs": [
    {
     "data": {
      "text/plain": [
       "'IFSC  Lages'"
      ]
     },
     "execution_count": 16,
     "metadata": {},
     "output_type": "execute_result"
    }
   ],
   "source": [
    "'IFSC ' + ' Lages'"
   ]
  },
  {
   "cell_type": "markdown",
   "metadata": {},
   "source": [
    "##### Multiplicando strings:"
   ]
  },
  {
   "cell_type": "code",
   "execution_count": 18,
   "metadata": {},
   "outputs": [
    {
     "data": {
      "text/plain": [
       "'OláOláOlá'"
      ]
     },
     "execution_count": 18,
     "metadata": {},
     "output_type": "execute_result"
    }
   ],
   "source": [
    "'Olá' * 3"
   ]
  },
  {
   "cell_type": "markdown",
   "metadata": {},
   "source": [
    "#### Capitalize:"
   ]
  },
  {
   "cell_type": "markdown",
   "metadata": {},
   "source": [
    "Deixa a primeira letra Maiúcula"
   ]
  },
  {
   "cell_type": "code",
   "execution_count": null,
   "metadata": {},
   "outputs": [],
   "source": [
    "'lages'.capitalize()"
   ]
  },
  {
   "cell_type": "code",
   "execution_count": null,
   "metadata": {},
   "outputs": [],
   "source": [
    "cidade = 'lages'\n",
    "cidade.capitalize()"
   ]
  },
  {
   "cell_type": "markdown",
   "metadata": {},
   "source": [
    "##### Upper(CapsLock):"
   ]
  },
  {
   "cell_type": "code",
   "execution_count": null,
   "metadata": {},
   "outputs": [],
   "source": [
    "'lages'.upper()"
   ]
  },
  {
   "cell_type": "markdown",
   "metadata": {},
   "source": [
    "#### Lower:"
   ]
  },
  {
   "cell_type": "code",
   "execution_count": null,
   "metadata": {},
   "outputs": [],
   "source": [
    "'LAGES'.lower()"
   ]
  },
  {
   "cell_type": "markdown",
   "metadata": {},
   "source": [
    "#### É um digito?"
   ]
  },
  {
   "cell_type": "code",
   "execution_count": 119,
   "metadata": {},
   "outputs": [
    {
     "data": {
      "text/plain": [
       "False"
      ]
     },
     "execution_count": 119,
     "metadata": {},
     "output_type": "execute_result"
    }
   ],
   "source": [
    "'Lages'.isdigit()\n"
   ]
  },
  {
   "cell_type": "code",
   "execution_count": 120,
   "metadata": {},
   "outputs": [
    {
     "data": {
      "text/plain": [
       "True"
      ]
     },
     "execution_count": 120,
     "metadata": {},
     "output_type": "execute_result"
    }
   ],
   "source": [
    "'12345678890'.isdigit()"
   ]
  },
  {
   "cell_type": "markdown",
   "metadata": {},
   "source": [
    "##### Acessando/lendo um caracter em um posição:"
   ]
  },
  {
   "cell_type": "code",
   "execution_count": 121,
   "metadata": {},
   "outputs": [
    {
     "name": "stdout",
     "output_type": "stream",
     "text": [
      "l\n",
      "a\n",
      "g\n",
      "e\n",
      "s\n"
     ]
    }
   ],
   "source": [
    "print(cidade[0])\n",
    "print(cidade[1])\n",
    "print(cidade[2])\n",
    "print(cidade[3])\n",
    "print(cidade[4])"
   ]
  },
  {
   "cell_type": "markdown",
   "metadata": {},
   "source": [
    "### Controle de fluxo"
   ]
  },
  {
   "cell_type": "markdown",
   "metadata": {},
   "source": [
    "Você pode controlar o fluxo de execução do código estabelecendo condições ou laços de repedições."
   ]
  },
  {
   "cell_type": "markdown",
   "metadata": {},
   "source": [
    "#### If, else e elif:"
   ]
  },
  {
   "cell_type": "code",
   "execution_count": 60,
   "metadata": {},
   "outputs": [
    {
     "name": "stdout",
     "output_type": "stream",
     "text": [
      "Maior\n"
     ]
    }
   ],
   "source": [
    "idade = 18\n",
    "\n",
    "if idade >= 16 :\n",
    "    print('Já pode votar')"
   ]
  },
  {
   "cell_type": "code",
   "execution_count": 61,
   "metadata": {},
   "outputs": [],
   "source": [
    "idade = 15\n",
    "if idade >= 18:\n",
    "     print('Já pode votar')"
   ]
  },
  {
   "cell_type": "code",
   "execution_count": 63,
   "metadata": {},
   "outputs": [
    {
     "name": "stdout",
     "output_type": "stream",
     "text": [
      "Ainda não pode votar\n"
     ]
    }
   ],
   "source": [
    "idade = 15\n",
    "if idade >= 16:\n",
    "     print('Já pode votar')\n",
    "else:\n",
    "    print('Ainda não pode votar')"
   ]
  },
  {
   "cell_type": "code",
   "execution_count": 66,
   "metadata": {},
   "outputs": [
    {
     "name": "stdout",
     "output_type": "stream",
     "text": [
      "Já pode votar\n"
     ]
    }
   ],
   "source": [
    "idade = 18\n",
    "if idade >= 16:\n",
    "     print('Já pode votar')\n",
    "elif idade >= 18:\n",
    "    print('Já pode votar e tirar acarteira de motorista')\n",
    "else:\n",
    "    print('Ainda não pode votar')"
   ]
  },
  {
   "cell_type": "markdown",
   "metadata": {},
   "source": [
    "#### Laços"
   ]
  },
  {
   "cell_type": "code",
   "execution_count": 69,
   "metadata": {},
   "outputs": [
    {
     "name": "stdout",
     "output_type": "stream",
     "text": [
      "M\n",
      "a\n",
      "r\n",
      "c\n",
      "e\n",
      "l\n",
      "o\n"
     ]
    }
   ],
   "source": [
    "nome = 'Marcelo'\n",
    "\n",
    "for caracter in nome:\n",
    "    print(caracter)"
   ]
  },
  {
   "cell_type": "code",
   "execution_count": 71,
   "metadata": {},
   "outputs": [
    {
     "name": "stdout",
     "output_type": "stream",
     "text": [
      "0 M\n",
      "1 a\n",
      "2 r\n",
      "3 c\n",
      "4 e\n",
      "5 l\n",
      "6 o\n"
     ]
    }
   ],
   "source": [
    "for posição, caracter in enumerate(nome):\n",
    "    print(posição, caracter)"
   ]
  },
  {
   "cell_type": "code",
   "execution_count": 74,
   "metadata": {},
   "outputs": [
    {
     "name": "stdout",
     "output_type": "stream",
     "text": [
      "1\n",
      "2\n",
      "3\n",
      "4\n",
      "5\n",
      "6\n"
     ]
    }
   ],
   "source": [
    "contage = 1\n",
    "while contage <= 6:\n",
    "  print(contage)\n",
    "  contage += 1"
   ]
  },
  {
   "cell_type": "markdown",
   "metadata": {},
   "source": [
    "### Funções"
   ]
  },
  {
   "cell_type": "markdown",
   "metadata": {},
   "source": [
    "Funções são sequencias de instruções que você pode pode reutilizala. No python uma função começa com a palavra reservada *def*."
   ]
  },
  {
   "cell_type": "code",
   "execution_count": 75,
   "metadata": {},
   "outputs": [
    {
     "data": {
      "text/plain": [
       "6"
      ]
     },
     "execution_count": 75,
     "metadata": {},
     "output_type": "execute_result"
    }
   ],
   "source": [
    "\n",
    "def soma(primeiro_numero, segundo_numero):\n",
    "    return primeiro_numero + segundo_numero\n",
    "\n",
    "soma(3, 3)"
   ]
  },
  {
   "cell_type": "markdown",
   "metadata": {},
   "source": [
    "## Bora colocar a mão na massa?"
   ]
  },
  {
   "cell_type": "markdown",
   "metadata": {},
   "source": [
    "1. Dado um número inteiro retorne o número de donuts, retorne uma string formada por *\"Número de donuts: < contagem >\"*, onde _< contagem >_ é o número inteiro passado. Porém se a contagem for maior ou igual a 10, use a palavra *\"muitos\"* ao invés do número atual. Exemplo: Se tivermos _donuts(5)_ retorna 'Número de donuts: 5' e se tivermos donuts(10) retorna 'Número de donuts: muitos'."
   ]
  },
  {
   "cell_type": "code",
   "execution_count": 4,
   "metadata": {},
   "outputs": [],
   "source": [
    "def donuts(count):\n",
    "  # coloque o seu código aqui\n",
    "  return"
   ]
  },
  {
   "cell_type": "markdown",
   "metadata": {},
   "source": [
    "2. Dada um string s qualquer, retorne um string composta pelas duas primeiras letras e as duas ultimas letras da string original. Por exemplo: 'spring' deve retornar 'spng'. Porém se o tamanho da string for menor do que 2 deve retornar uma string vazia."
   ]
  },
  {
   "cell_type": "code",
   "execution_count": 5,
   "metadata": {},
   "outputs": [],
   "source": [
    "def both_ends(s):\n",
    "  # coloque seu código aqui\n",
    "  return"
   ]
  },
  {
   "cell_type": "markdown",
   "metadata": {},
   "source": [
    "3. Dada um string qualquer s, retorne uma string onde todas as ocorrências do primeiro caracter devem ser trocadas por \"*\", exceto primeiro caracter. Por exemplo, 'babble' deve retornar 'ba**le', note que o primeiro caracter é b e a seguir ele se repete, então é substituido por \"8\". Assuma que a string seja maior do que 1. Dica: s.replace(str_a, str_b) retorna a versão da string s onde todas ocorrencias da str_a são substituidas por str_b."
   ]
  },
  {
   "cell_type": "code",
   "execution_count": 6,
   "metadata": {},
   "outputs": [],
   "source": [
    "def fix_start(s):\n",
    "  # coloque seu código aqui\n",
    "  return"
   ]
  },
  {
   "cell_type": "markdown",
   "metadata": {},
   "source": [
    "4. Dada uma string _a_ _e_ outra b, retorne a string a e b separadas por uma caracter ASCII de espaço, por exemplo: a _espaço_ b. Porém os dois primeiros caracteres serão trocados entre eles, por exemplo: 'mix', 'pod' deve retornar 'pox mid' e 'dog', 'dinner' deve retornar 'dig donner'. Assuma que as strings _a_ e _b_ são maiores ou igual a 2."
   ]
  },
  {
   "cell_type": "code",
   "execution_count": 7,
   "metadata": {},
   "outputs": [],
   "source": [
    "def mix_up(a, b):\n",
    "  # coloque seu código aqui\n",
    "  return"
   ]
  },
  {
   "cell_type": "markdown",
   "metadata": {},
   "source": [
    "\n",
    "\n",
    "## Estrutura de dados\n",
    "\n",
    "\n",
    "---"
   ]
  },
  {
   "cell_type": "markdown",
   "metadata": {},
   "source": [
    "### Listas:"
   ]
  },
  {
   "cell_type": "code",
   "execution_count": 103,
   "metadata": {
    "colab": {
     "base_uri": "https://localhost:8080/",
     "height": 69
    },
    "colab_type": "code",
    "id": "1-Eu01W_gi7B",
    "outputId": "9e23a41c-6ba2-4095-da4c-3060722964b7"
   },
   "outputs": [
    {
     "name": "stdout",
     "output_type": "stream",
     "text": [
      "\n",
      " Lista de frutas:\n",
      "['Maçã', 'Banana', 'Melão', 'Kiwi', 'Laranja', 'Maçã']\n"
     ]
    }
   ],
   "source": [
    "print('\\n Lista de frutas:')\n",
    "frutas = ['Maçã', 'Banana', 'Melão', 'Kiwi', 'Laranja', 'Maçã']\n",
    "print(frutas)\n"
   ]
  },
  {
   "cell_type": "markdown",
   "metadata": {
    "colab_type": "text",
    "id": "nTyav054iHyh"
   },
   "source": [
    "#### Acessando os items de uma lista:"
   ]
  },
  {
   "cell_type": "code",
   "execution_count": 104,
   "metadata": {
    "colab": {
     "base_uri": "https://localhost:8080/",
     "height": 104
    },
    "colab_type": "code",
    "id": "XYZk-loJhqSK",
    "outputId": "d4bf9888-2f24-44b5-82b0-c2f02987342c"
   },
   "outputs": [
    {
     "name": "stdout",
     "output_type": "stream",
     "text": [
      "Acessando item de uma lista\n",
      "\n",
      "Primeiro item de uma lista: Maçã\n",
      "Segundo item de uma lista: Banana\n",
      "Último item de uma lista: Maçã\n"
     ]
    }
   ],
   "source": [
    "print('Acessando item de uma lista\\n')\n",
    "print('Primeiro item de uma lista:', frutas[0])\n",
    "print('Segundo item de uma lista:', frutas[1])\n",
    "print('Último item de uma lista:', frutas[-1])"
   ]
  },
  {
   "cell_type": "markdown",
   "metadata": {
    "colab_type": "text",
    "id": "WfxfeXRFiUPC"
   },
   "source": [
    "#### Tamanho da Lista:"
   ]
  },
  {
   "cell_type": "code",
   "execution_count": 105,
   "metadata": {
    "colab": {
     "base_uri": "https://localhost:8080/",
     "height": 34
    },
    "colab_type": "code",
    "id": "Az3gdsQRiW9s",
    "outputId": "6455d509-64e5-4ff6-df3e-b33b737b76cb"
   },
   "outputs": [
    {
     "name": "stdout",
     "output_type": "stream",
     "text": [
      "Tamanho da lista: 6\n"
     ]
    }
   ],
   "source": [
    "print('Tamanho da lista:', len(frutas))"
   ]
  },
  {
   "cell_type": "markdown",
   "metadata": {},
   "source": [
    "#### Acesso/leitua a um item em uma lista:"
   ]
  },
  {
   "cell_type": "markdown",
   "metadata": {},
   "source": [
    "![alt text](https://files.realpython.com/media/t.c11ea56e8ca2.png)"
   ]
  },
  {
   "cell_type": "code",
   "execution_count": 106,
   "metadata": {},
   "outputs": [
    {
     "name": "stdout",
     "output_type": "stream",
     "text": [
      "Maçã\n",
      "Banana\n",
      "Melão\n",
      "Kiwi\n",
      "Laranja\n",
      "Maçã\n"
     ]
    }
   ],
   "source": [
    "print(frutas[0])\n",
    "print(frutas[1])\n",
    "print(frutas[2])\n",
    "print(frutas[3])\n",
    "print(frutas[4])\n",
    "print(frutas[5])"
   ]
  },
  {
   "cell_type": "code",
   "execution_count": 107,
   "metadata": {},
   "outputs": [
    {
     "name": "stdout",
     "output_type": "stream",
     "text": [
      "Maçã\n",
      "Banana\n",
      "Melão\n",
      "Kiwi\n",
      "Laranja\n",
      "Maçã\n"
     ]
    }
   ],
   "source": [
    "print(frutas[-6])\n",
    "print(frutas[-5])\n",
    "print(frutas[-4])\n",
    "print(frutas[-3])\n",
    "print(frutas[-2])\n",
    "print(frutas[-1])"
   ]
  },
  {
   "cell_type": "code",
   "execution_count": 108,
   "metadata": {
    "scrolled": true
   },
   "outputs": [
    {
     "ename": "IndexError",
     "evalue": "list index out of range",
     "output_type": "error",
     "traceback": [
      "\u001b[0;31m---------------------------------------------------------------------------\u001b[0m",
      "\u001b[0;31mIndexError\u001b[0m                                Traceback (most recent call last)",
      "\u001b[0;32m<ipython-input-108-6f97ac984294>\u001b[0m in \u001b[0;36m<module>\u001b[0;34m\u001b[0m\n\u001b[0;32m----> 1\u001b[0;31m \u001b[0mfrutas\u001b[0m\u001b[0;34m[\u001b[0m\u001b[0;36m6\u001b[0m\u001b[0;34m]\u001b[0m\u001b[0;34m\u001b[0m\u001b[0;34m\u001b[0m\u001b[0m\n\u001b[0m",
      "\u001b[0;31mIndexError\u001b[0m: list index out of range"
     ]
    }
   ],
   "source": [
    "frutas[6]"
   ]
  },
  {
   "cell_type": "markdown",
   "metadata": {
    "colab_type": "text",
    "id": "WAEhINmRllxz"
   },
   "source": [
    "#### Adicionando um item em uma lista"
   ]
  },
  {
   "cell_type": "code",
   "execution_count": null,
   "metadata": {},
   "outputs": [],
   "source": [
    "print('Adicionando um item no final de uma lista:\\n')\n",
    "print(frutas)\n",
    "frutas.append('Carambola')\n",
    "print(frutas)"
   ]
  },
  {
   "cell_type": "code",
   "execution_count": 109,
   "metadata": {
    "colab": {
     "base_uri": "https://localhost:8080/",
     "height": 173
    },
    "colab_type": "code",
    "id": "xG71LIbRlq90",
    "outputId": "c4ffff42-0026-4a16-d662-ba2353dde126"
   },
   "outputs": [
    {
     "name": "stdout",
     "output_type": "stream",
     "text": [
      "\n",
      "Adicionando um item em uma posição específica de uma lista:\n",
      "\n",
      "['Maçã', 'Banana', 'Melão', 'Kiwi', 'Laranja', 'Maçã']\n",
      "['Maçã', 'Banana', 'Caju', 'Melão', 'Kiwi', 'Laranja', 'Maçã']\n"
     ]
    }
   ],
   "source": [
    "print('\\nAdicionando um item em uma posição específica de uma lista:\\n')\n",
    "print(frutas)\n",
    "frutas.insert(2, 'Caju')\n",
    "print(frutas)"
   ]
  },
  {
   "cell_type": "markdown",
   "metadata": {
    "colab_type": "text",
    "id": "nhZTN6Hrnu6t"
   },
   "source": [
    "#### Ordenando uma lista:\n"
   ]
  },
  {
   "cell_type": "code",
   "execution_count": 110,
   "metadata": {
    "colab": {
     "base_uri": "https://localhost:8080/",
     "height": 69
    },
    "colab_type": "code",
    "id": "8_Dw7Jg2nxvl",
    "outputId": "bd55306b-04a4-49d7-f08c-84a87dd19175"
   },
   "outputs": [
    {
     "name": "stdout",
     "output_type": "stream",
     "text": [
      "Ordenando uma lista em ordem alfabética\n",
      "['Maçã', 'Banana', 'Caju', 'Melão', 'Kiwi', 'Laranja', 'Maçã']\n",
      "['Banana', 'Caju', 'Kiwi', 'Laranja', 'Maçã', 'Maçã', 'Melão']\n"
     ]
    }
   ],
   "source": [
    "print('Ordenando uma lista em ordem alfabética')\n",
    "print(frutas)\n",
    "frutas.sort()\n",
    "print(frutas)"
   ]
  },
  {
   "cell_type": "markdown",
   "metadata": {},
   "source": [
    "#### Apagando um item de uma lista:"
   ]
  },
  {
   "cell_type": "code",
   "execution_count": 111,
   "metadata": {},
   "outputs": [
    {
     "name": "stdout",
     "output_type": "stream",
     "text": [
      "['Banana', 'Caju', 'Kiwi', 'Laranja', 'Maçã', 'Maçã', 'Melão']\n",
      "['Banana', 'Caju', 'Kiwi', 'Laranja', 'Maçã', 'Melão']\n"
     ]
    }
   ],
   "source": [
    "print(frutas)\n",
    "del frutas[5]\n",
    "print(frutas)"
   ]
  },
  {
   "cell_type": "markdown",
   "metadata": {},
   "source": [
    "#### Substituindo um item:"
   ]
  },
  {
   "cell_type": "code",
   "execution_count": 112,
   "metadata": {},
   "outputs": [
    {
     "name": "stdout",
     "output_type": "stream",
     "text": [
      "['Banana', 'Caju', 'Kiwi', 'Laranja', 'Maçã', 'Melão']\n",
      "['Banana', 'Caju', 'Kiwi', 'Laranja', 'Maçã', 'Pera']\n"
     ]
    }
   ],
   "source": [
    "print(frutas)\n",
    "frutas[-1] = 'Pera'\n",
    "print(frutas)"
   ]
  },
  {
   "cell_type": "markdown",
   "metadata": {
    "colab_type": "text",
    "id": "y_bpTD41B2t0"
   },
   "source": [
    "#### Fatiando listas\n"
   ]
  },
  {
   "cell_type": "markdown",
   "metadata": {
    "colab_type": "text",
    "id": "5PmzLR0jKsAk"
   },
   "source": [
    "![alt text](https://files.realpython.com/media/t.c11ea56e8ca2.png)"
   ]
  },
  {
   "cell_type": "code",
   "execution_count": 113,
   "metadata": {},
   "outputs": [
    {
     "name": "stdout",
     "output_type": "stream",
     "text": [
      "\n",
      "Lista completa\n",
      "['Banana', 'Caju', 'Kiwi', 'Laranja', 'Maçã', 'Pera']\n"
     ]
    }
   ],
   "source": [
    "print('\\nLista completa')\n",
    "print(frutas)"
   ]
  },
  {
   "cell_type": "code",
   "execution_count": 114,
   "metadata": {},
   "outputs": [
    {
     "name": "stdout",
     "output_type": "stream",
     "text": [
      "\n",
      "Acessa os 3 primeiros items\n",
      "['Banana', 'Caju', 'Kiwi']\n",
      "['Banana', 'Caju', 'Kiwi']\n",
      "['Banana', 'Caju']\n"
     ]
    }
   ],
   "source": [
    "print('\\nAcessa os 3 primeiros items')\n",
    "print(frutas[0:3])\n",
    "print(frutas[:3])\n",
    "print(frutas[:-4])"
   ]
  },
  {
   "cell_type": "code",
   "execution_count": 115,
   "metadata": {},
   "outputs": [
    {
     "name": "stdout",
     "output_type": "stream",
     "text": [
      "\n",
      "Acessa uma faixa de items do meio da lista\n",
      "['Kiwi', 'Laranja', 'Maçã']\n"
     ]
    }
   ],
   "source": [
    "print('\\nAcessa uma faixa de items do meio da lista')\n",
    "print(frutas[2:5])"
   ]
  },
  {
   "cell_type": "code",
   "execution_count": 116,
   "metadata": {},
   "outputs": [
    {
     "name": "stdout",
     "output_type": "stream",
     "text": [
      "\n",
      "Acessa os 3 ultimos items da lista\n",
      "['Banana', 'Caju', 'Kiwi', 'Laranja', 'Maçã', 'Pera']\n",
      "['Maçã', 'Pera']\n",
      "['Laranja', 'Maçã', 'Pera']\n"
     ]
    }
   ],
   "source": [
    "print('\\nAcessa os 3 ultimos items da lista')\n",
    "print(frutas)\n",
    "print(frutas[4:])\n",
    "print(frutas[-3:])"
   ]
  },
  {
   "cell_type": "markdown",
   "metadata": {},
   "source": [
    "### Tuplas:"
   ]
  },
  {
   "cell_type": "code",
   "execution_count": 117,
   "metadata": {},
   "outputs": [
    {
     "name": "stdout",
     "output_type": "stream",
     "text": [
      "Tuplas\n",
      "('Batata', 'Beringela', 'Brocolis', 'Abobora')\n"
     ]
    }
   ],
   "source": [
    "print('Tuplas')\n",
    "legumes = ('Batata', 'Beringela', 'Brocolis', 'Abobora')\n",
    "print(legumes)"
   ]
  },
  {
   "cell_type": "markdown",
   "metadata": {},
   "source": [
    "##### Qual a difença entre Tuplas e Listas?"
   ]
  },
  {
   "cell_type": "code",
   "execution_count": 118,
   "metadata": {},
   "outputs": [
    {
     "ename": "TypeError",
     "evalue": "'tuple' object does not support item assignment",
     "output_type": "error",
     "traceback": [
      "\u001b[0;31m---------------------------------------------------------------------------\u001b[0m",
      "\u001b[0;31mTypeError\u001b[0m                                 Traceback (most recent call last)",
      "\u001b[0;32m<ipython-input-118-8b287a087eff>\u001b[0m in \u001b[0;36m<module>\u001b[0;34m\u001b[0m\n\u001b[0;32m----> 1\u001b[0;31m \u001b[0mlegumes\u001b[0m\u001b[0;34m[\u001b[0m\u001b[0;36m2\u001b[0m\u001b[0;34m]\u001b[0m \u001b[0;34m=\u001b[0m \u001b[0;34m'Abacaxi'\u001b[0m\u001b[0;34m\u001b[0m\u001b[0;34m\u001b[0m\u001b[0m\n\u001b[0m",
      "\u001b[0;31mTypeError\u001b[0m: 'tuple' object does not support item assignment"
     ]
    }
   ],
   "source": [
    "legumes[2] = 'Abacaxi'"
   ]
  },
  {
   "cell_type": "markdown",
   "metadata": {},
   "source": [
    "**_TUPLAS SÃO IMUTÁVEIS_**"
   ]
  },
  {
   "cell_type": "markdown",
   "metadata": {},
   "source": [
    "#### Tuplas podem conter elementos mutáveis:"
   ]
  },
  {
   "cell_type": "code",
   "execution_count": null,
   "metadata": {},
   "outputs": [],
   "source": [
    "tupla = (['Banana', 'Caju'], 'Carambola', 'Kiwi', 42 , 42.0)\n",
    "print(tupla)"
   ]
  },
  {
   "cell_type": "code",
   "execution_count": null,
   "metadata": {},
   "outputs": [],
   "source": [
    "print(type(tupla[0]))\n",
    "tupla[0].append('Abacaxi')\n",
    "print(tupla)"
   ]
  },
  {
   "cell_type": "markdown",
   "metadata": {},
   "source": [
    "#### Pra que usar? Ou Por que usar?"
   ]
  },
  {
   "cell_type": "markdown",
   "metadata": {},
   "source": [
    "Quando você precisa ter uma sequencia de valores ou coisa que não vão mudar enquanto código é executado"
   ]
  },
  {
   "cell_type": "markdown",
   "metadata": {},
   "source": [
    "## Bora colocar a mão na massa?"
   ]
  },
  {
   "cell_type": "markdown",
   "metadata": {},
   "source": [
    "1. Dada uma lista de strings, retorne o número de strings encontradas que sejam maior ou igual a 2 e que o primeiro e o ultiumo caracter sejam iguais."
   ]
  },
  {
   "cell_type": "code",
   "execution_count": 8,
   "metadata": {},
   "outputs": [],
   "source": [
    "def match_ends(words):\n",
    "  # coloque seu código aqui\n",
    "  return\n"
   ]
  },
  {
   "cell_type": "markdown",
   "metadata": {},
   "source": [
    "2. Dada uma lista de strings, retorne uma lista de string em ordem alfabetica, porém as strings que começarem com 'x' devem ser as primeiras. Dica: Você pode usar duas listas, ordenando cada uma deles antes de combina-las."
   ]
  },
  {
   "cell_type": "code",
   "execution_count": 10,
   "metadata": {},
   "outputs": [],
   "source": [
    "def front_x(words):\n",
    "  # coloque o seu código aqui\n",
    "  return"
   ]
  },
  {
   "cell_type": "markdown",
   "metadata": {},
   "source": [
    "3. Dada uma lista não vazia de tuplas, retorne uma lista em ordem crescente, ordenado pelo último elemento da tupla. Por exemplo [(1, 7), (1, 3), (3, 4, 5), (2, 2)] deve retornar [(2, 2), (1, 3), (3, 4, 5), (1, 7)]. Dica: use o argumento \"key\" passando uma função que obtem o ultimo elemento da tupla."
   ]
  },
  {
   "cell_type": "code",
   "execution_count": null,
   "metadata": {},
   "outputs": [],
   "source": [
    "def sort_last(tuples):\n",
    "  # coloque o seu código aqui\n",
    "  return"
   ]
  },
  {
   "cell_type": "markdown",
   "metadata": {},
   "source": [
    "### Dicionário:"
   ]
  },
  {
   "cell_type": "markdown",
   "metadata": {},
   "source": [
    "Um dicionário é uma estrutura de dados baseada em **_chave_** e **_valor_**, por exemplo:"
   ]
  },
  {
   "cell_type": "code",
   "execution_count": null,
   "metadata": {},
   "outputs": [],
   "source": [
    "pessoa = {'nome': 'Marcelo', 'idade': 33, 'sexo': 'Masculino', 'nacionalidade': 'Brasileiro'}\n",
    "print(pessoa)"
   ]
  },
  {
   "cell_type": "markdown",
   "metadata": {},
   "source": [
    "No exemplo a cima a temos a _nome, idade, sexo e nacionalidade_ como **_chave_** e _Marcelo, 33, Masculino e Brasileiro_  como o **_valor_** respectivamente."
   ]
  },
  {
   "cell_type": "markdown",
   "metadata": {},
   "source": [
    "#### Tamanho de um dicionário:"
   ]
  },
  {
   "cell_type": "code",
   "execution_count": null,
   "metadata": {},
   "outputs": [],
   "source": [
    "print(len(pessoa))"
   ]
  },
  {
   "cell_type": "markdown",
   "metadata": {},
   "source": [
    "#### Acessando o valor de uma chave:"
   ]
  },
  {
   "cell_type": "code",
   "execution_count": null,
   "metadata": {},
   "outputs": [],
   "source": [
    "pessoa['nome']"
   ]
  },
  {
   "cell_type": "code",
   "execution_count": null,
   "metadata": {},
   "outputs": [],
   "source": [
    "pessoa['estado']"
   ]
  },
  {
   "cell_type": "code",
   "execution_count": null,
   "metadata": {},
   "outputs": [],
   "source": [
    "estado = pessoa.get('estado')\n",
    "print(estado)"
   ]
  },
  {
   "cell_type": "markdown",
   "metadata": {},
   "source": [
    "## Bora colocar a mão na massa?"
   ]
  },
  {
   "cell_type": "markdown",
   "metadata": {},
   "source": [
    "1. Dada a seguinte lista de dicionários, [{'item': 'item1', 'montante': 400}, {'item': 'item2', 'montante': 300}, {'item': 'item1', 'montante': 750}], retorne montante total de por item. A função deve retornar {'item1': 1150, 'item2': 300}."
   ]
  },
  {
   "cell_type": "code",
   "execution_count": 11,
   "metadata": {},
   "outputs": [],
   "source": [
    "def amount(items):\n",
    "    # coloque o seu código aqui\n",
    "    return"
   ]
  },
  {
   "cell_type": "markdown",
   "metadata": {},
   "source": [
    "2. Dado a seguinte lista de dicionário, [{\"V\":\"S001\"}, {\"V\": \"S002\"}, {\"VI\": \"S001\"}, {\"VI\": \"S005\"}, {\"VII\":\"S005\"}, {\"V\":\"S009\"},{\"VIII\":\"S007\"}], retorne um dicionário com valores único, não repetidos. Por exemplo: {'S005', 'S002', 'S007', 'S001', 'S009'}"
   ]
  },
  {
   "cell_type": "code",
   "execution_count": 12,
   "metadata": {},
   "outputs": [],
   "source": [
    "def unique(items):\n",
    "    # coloque o seu código aqui\n",
    "    return "
   ]
  },
  {
   "cell_type": "markdown",
   "metadata": {},
   "source": [
    "3. Dado uma lista de dicionários, retorne um tupla com todas as combinações possíveis de letras de acordo com cada letra presente em cada chave do dicionário. Por exemplo, {'1':['a','b'], '2':['c','d']} deve retornar ('ac', 'ad', 'bc','bd'). Dica use o _itertools_ da biblioteca padrão do python."
   ]
  },
  {
   "cell_type": "code",
   "execution_count": null,
   "metadata": {},
   "outputs": [],
   "source": [
    "def combination(items):\n",
    "    # coloque o seu código aqui\n",
    "    return"
   ]
  },
  {
   "cell_type": "markdown",
   "metadata": {},
   "source": [
    "## TDD (Desenvolvimento guiado a testes)"
   ]
  },
  {
   "cell_type": "markdown",
   "metadata": {},
   "source": [
    "##### o que é?"
   ]
  },
  {
   "cell_type": "markdown",
   "metadata": {},
   "source": [
    "É um metodoligia de desenvolvimento onde você escreve o(s) teste(s) antes mesmo de escrever o código."
   ]
  },
  {
   "cell_type": "markdown",
   "metadata": {},
   "source": [
    "![alt text](https://i0.wp.com/onebitcode.com/wp-content/uploads/2017/04/09-1.png)"
   ]
  },
  {
   "cell_type": "markdown",
   "metadata": {},
   "source": [
    "### Como funciona na prática?"
   ]
  },
  {
   "cell_type": "code",
   "execution_count": null,
   "metadata": {},
   "outputs": [],
   "source": []
  },
  {
   "cell_type": "markdown",
   "metadata": {},
   "source": [
    "## Bora, colocar a mão na massa?"
   ]
  },
  {
   "cell_type": "markdown",
   "metadata": {},
   "source": [
    "### Coding Dojo"
   ]
  },
  {
   "cell_type": "markdown",
   "metadata": {},
   "source": [
    "#### Fizz Buzz:"
   ]
  },
  {
   "cell_type": "markdown",
   "metadata": {},
   "source": [
    "Neste problema, você deverá exibir uma lista de 1 a 100, um em cada linha, com as seguintes exceções:\n",
    "\n",
    "    . Números divisíveis por 3 deve aparecer como 'Fizz' ao invés do número;\n",
    "    . Números divisíveis por 5 devem aparecer como 'Buzz' ao invés do número;\n",
    "    . Números divisíveis por 3 e 5 devem aparecer como 'FizzBuzz' ao invés do número'.\n"
   ]
  },
  {
   "cell_type": "code",
   "execution_count": null,
   "metadata": {},
   "outputs": [],
   "source": []
  },
  {
   "cell_type": "markdown",
   "metadata": {},
   "source": [
    "#### Caixa eletônico:"
   ]
  },
  {
   "cell_type": "markdown",
   "metadata": {},
   "source": [
    "Desenvolva um programa que simule a entrega de notas quando um cliente efetuar um saque em um caixa eletrônico. Os requisitos básicos são os seguintes:\n",
    "\n",
    "    Entregar o menor número de notas;\n",
    "    É possível sacar o valor solicitado com as notas disponíveis;\n",
    "    Saldo do cliente infinito;\n",
    "    Quantidade de notas infinito (pode-se colocar um valor finito de cédulas para aumentar a dificuldade do problema);\n",
    "    Notas disponíveis de R$ 100,00; R$ 50,00; R$ 20,00 e R$ 10,00\n",
    "\n",
    "Exemplos:\n",
    "\n",
    "    Valor do Saque: R$ 30,00 – Resultado Esperado: Entregar 1 nota de R$20,00 e 1 nota de R$ 10,00.\n",
    "    Valor do Saque: R$ 80,00 – Resultado Esperado: Entregar 1 nota de R$50,00 1 nota de R$ 20,00 e 1 nota de R$ 10,00. \n"
   ]
  },
  {
   "cell_type": "code",
   "execution_count": null,
   "metadata": {},
   "outputs": [],
   "source": []
  },
  {
   "cell_type": "markdown",
   "metadata": {},
   "source": [
    "#### Lendo um cheque\n"
   ]
  },
  {
   "cell_type": "markdown",
   "metadata": {},
   "source": [
    "Dado um cheque com o seu valor por extenso, desenvolva um programa que retorne o seu valor numérico.\n",
    "\n",
    "Por exemplo se informarmos \"dois mil quinhentos e vinte e três reais e dezoito centavos\", \n",
    "o seu programa deve retornar \"2523,18\"\n"
   ]
  },
  {
   "cell_type": "code",
   "execution_count": null,
   "metadata": {},
   "outputs": [],
   "source": []
  }
 ],
 "metadata": {
  "colab": {
   "collapsed_sections": [],
   "name": "python_programming.ipynb",
   "provenance": [],
   "version": "0.3.2"
  },
  "kernelspec": {
   "display_name": "Python 3",
   "language": "python",
   "name": "python3"
  },
  "language_info": {
   "codemirror_mode": {
    "name": "ipython",
    "version": 3
   },
   "file_extension": ".py",
   "mimetype": "text/x-python",
   "name": "python",
   "nbconvert_exporter": "python",
   "pygments_lexer": "ipython3",
   "version": "3.7.3"
  }
 },
 "nbformat": 4,
 "nbformat_minor": 1
}
