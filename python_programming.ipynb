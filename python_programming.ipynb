{
 "cells": [
  {
   "cell_type": "markdown",
   "metadata": {
    "colab_type": "text",
    "id": "4qvMEEerv6y_"
   },
   "source": [
    "# Workshop de programação na prática com Python\n",
    "\n",
    "## Tipos de dados (Básicos)\n",
    "\n",
    "\n",
    "---\n",
    "\n"
   ]
  },
  {
   "cell_type": "markdown",
   "metadata": {
    "colab_type": "text",
    "id": "zlOkLRpcw1Z9"
   },
   "source": [
    "### Números:"
   ]
  },
  {
   "cell_type": "markdown",
   "metadata": {
    "colab_type": "text",
    "id": "yrubax3GgN8C"
   },
   "source": [
    "#### Inteiros"
   ]
  },
  {
   "cell_type": "code",
   "execution_count": 43,
   "metadata": {},
   "outputs": [
    {
     "name": "stdout",
     "output_type": "stream",
     "text": [
      "\n",
      " Número inteiro, base 10:\n",
      "<class 'int'>\n",
      "42\n"
     ]
    }
   ],
   "source": [
    "# Número inteiro, base 10\n",
    "print('\\n Número inteiro, base 10:')\n",
    "número_inteiro = 42\n",
    "print(type(número_inteiro))\n",
    "print(número_inteiro)"
   ]
  },
  {
   "cell_type": "code",
   "execution_count": 44,
   "metadata": {},
   "outputs": [
    {
     "name": "stdout",
     "output_type": "stream",
     "text": [
      "\n",
      " Número inteiro binário, base 2:\n",
      "<class 'int'>\n",
      "30\n"
     ]
    }
   ],
   "source": [
    "# Número inteiro binário, base 2\n",
    "print('\\n Número inteiro binário, base 2:')\n",
    "número_binário = 0b011110\n",
    "print(type(número_binário))\n",
    "print(número_binário)"
   ]
  },
  {
   "cell_type": "code",
   "execution_count": 45,
   "metadata": {},
   "outputs": [
    {
     "name": "stdout",
     "output_type": "stream",
     "text": [
      "\n",
      " Número inteiro octal, base 8:\n",
      "<class 'int'>\n",
      "8\n"
     ]
    }
   ],
   "source": [
    "# Número inteiro octal, base 8\n",
    "print('\\n Número inteiro octal, base 8:')\n",
    "número_octal = 0o10\n",
    "print(type(número_octal))\n",
    "print(número_octal)"
   ]
  },
  {
   "cell_type": "code",
   "execution_count": 46,
   "metadata": {
    "colab": {
     "base_uri": "https://localhost:8080/",
     "height": 295
    },
    "colab_type": "code",
    "id": "SxySjuRmxHpE",
    "outputId": "ecc296fb-6554-40fb-db2c-5098ff8fad7b"
   },
   "outputs": [
    {
     "name": "stdout",
     "output_type": "stream",
     "text": [
      "\n",
      " Número inteiro hexadecimal, base 16:\n",
      "<class 'int'>\n",
      "16\n"
     ]
    }
   ],
   "source": [
    "# Número inteiro hexadecimal, base 16\n",
    "print('\\n Número inteiro hexadecimal, base 16:')\n",
    "número_hexadecimal = 0x10\n",
    "print(type(número_hexadecimal))\n",
    "print(número_hexadecimal)"
   ]
  },
  {
   "cell_type": "markdown",
   "metadata": {
    "colab_type": "text",
    "id": "b_xg_dXTGMdx"
   },
   "source": [
    "#### Decimais"
   ]
  },
  {
   "cell_type": "code",
   "execution_count": 47,
   "metadata": {
    "colab": {
     "base_uri": "https://localhost:8080/",
     "height": 86
    },
    "colab_type": "code",
    "id": "bSHx5NyLK1C1",
    "outputId": "3a5ce937-98ba-4ce2-aa57-48a9e6278681"
   },
   "outputs": [
    {
     "name": "stdout",
     "output_type": "stream",
     "text": [
      "\n",
      " Número decimal:\n",
      "<class 'float'>\n",
      "6.23\n"
     ]
    }
   ],
   "source": [
    "# Número inteiro decimal\n",
    "print('\\n Número decimal:')\n",
    "número_decimal = 6.23\n",
    "print(type(número_decimal))\n",
    "print(número_decimal)"
   ]
  },
  {
   "cell_type": "markdown",
   "metadata": {
    "colab_type": "text",
    "id": "bDc5ZgBLTYYN"
   },
   "source": [
    "#### Operações com números:"
   ]
  },
  {
   "cell_type": "code",
   "execution_count": 48,
   "metadata": {},
   "outputs": [
    {
     "name": "stdout",
     "output_type": "stream",
     "text": [
      "\n",
      "Adição:\n",
      "21 + 21 = 42\n"
     ]
    }
   ],
   "source": [
    "print('\\nAdição:')\n",
    "adição = 21 + 21\n",
    "print('21 + 21 =', adição)"
   ]
  },
  {
   "cell_type": "code",
   "execution_count": 49,
   "metadata": {},
   "outputs": [
    {
     "name": "stdout",
     "output_type": "stream",
     "text": [
      "\n",
      "Subtração:\n",
      "82 - 40 = 42\n"
     ]
    }
   ],
   "source": [
    "print('\\nSubtração:')\n",
    "subtração = 82 - 40\n",
    "print('82 - 40 =', subtração)"
   ]
  },
  {
   "cell_type": "code",
   "execution_count": 50,
   "metadata": {},
   "outputs": [
    {
     "name": "stdout",
     "output_type": "stream",
     "text": [
      "\n",
      "Multiplicação:\n",
      "21.0 x 2 = 42.0\n"
     ]
    }
   ],
   "source": [
    "print('\\nMultiplicação:')\n",
    "multiplicação = 21.0 * 2\n",
    "print('21.0 x 2 =', multiplicação)"
   ]
  },
  {
   "cell_type": "code",
   "execution_count": 51,
   "metadata": {
    "colab": {
     "base_uri": "https://localhost:8080/",
     "height": 225
    },
    "colab_type": "code",
    "id": "MTgKFFv6Tg1T",
    "outputId": "600c71a7-e0c4-4ca6-a060-c2c0efa1e9ef"
   },
   "outputs": [
    {
     "name": "stdout",
     "output_type": "stream",
     "text": [
      "\n",
      "Divisão:\n",
      "84 ÷ 2 = 42\n"
     ]
    }
   ],
   "source": [
    "print('\\nDivisão:')\n",
    "divisão = 84 // 2\n",
    "print('84 ÷ 2 =', divisão)\n"
   ]
  },
  {
   "cell_type": "markdown",
   "metadata": {
    "colab_type": "text",
    "id": "kdBrOXurPGlw"
   },
   "source": [
    "### Sequencias de caracteres (Strings):"
   ]
  },
  {
   "cell_type": "code",
   "execution_count": 52,
   "metadata": {
    "colab": {
     "base_uri": "https://localhost:8080/",
     "height": 52
    },
    "colab_type": "code",
    "id": "WgaiuWa1PMtJ",
    "outputId": "123e9021-add7-42bf-ed66-37c15feabd4a"
   },
   "outputs": [
    {
     "name": "stdout",
     "output_type": "stream",
     "text": [
      "IFSC - Lages\n",
      "<class 'str'>\n"
     ]
    }
   ],
   "source": [
    "texto = 'IFSC - Lages'\n",
    "print(texto)\n",
    "print(type(texto))"
   ]
  },
  {
   "cell_type": "markdown",
   "metadata": {
    "colab_type": "text",
    "id": "7R_bOWEcQIre"
   },
   "source": [
    "#### Booleano (Boolean)\n"
   ]
  },
  {
   "cell_type": "code",
   "execution_count": 53,
   "metadata": {},
   "outputs": [
    {
     "name": "stdout",
     "output_type": "stream",
     "text": [
      "\n",
      " Verdadeiro\n",
      "True\n",
      "<class 'bool'>\n"
     ]
    }
   ],
   "source": [
    "print('\\n Verdadeiro')\n",
    "verdadeiro = True\n",
    "print(verdadeiro)\n",
    "print(type(verdadeiro))"
   ]
  },
  {
   "cell_type": "code",
   "execution_count": 54,
   "metadata": {
    "colab": {
     "base_uri": "https://localhost:8080/",
     "height": 156
    },
    "colab_type": "code",
    "id": "TEYE0BH2QXtl",
    "outputId": "0721e82f-cad9-4922-a8e1-ef0daba79eec"
   },
   "outputs": [
    {
     "name": "stdout",
     "output_type": "stream",
     "text": [
      "\n",
      " Falso\n",
      "False\n",
      "<class 'bool'>\n"
     ]
    }
   ],
   "source": [
    "print('\\n Falso')\n",
    "falso = False\n",
    "print(falso)\n",
    "print(type(falso))"
   ]
  },
  {
   "cell_type": "markdown",
   "metadata": {
    "colab_type": "text",
    "id": "sD0bDrfggdE2"
   },
   "source": [
    "## Estrutura de dados\n",
    "\n",
    "\n",
    "---"
   ]
  },
  {
   "cell_type": "markdown",
   "metadata": {
    "colab_type": "text",
    "id": "2yGwRUqXgjmQ"
   },
   "source": [
    "#### Listas:"
   ]
  },
  {
   "cell_type": "code",
   "execution_count": 55,
   "metadata": {
    "colab": {
     "base_uri": "https://localhost:8080/",
     "height": 69
    },
    "colab_type": "code",
    "id": "1-Eu01W_gi7B",
    "outputId": "9e23a41c-6ba2-4095-da4c-3060722964b7"
   },
   "outputs": [
    {
     "name": "stdout",
     "output_type": "stream",
     "text": [
      "\n",
      " Lista de frutas:\n",
      "['Maçã', 'Banana', 'Melão', 'Kiwi', 'Laranja', 'Maçã']\n"
     ]
    }
   ],
   "source": [
    "print('\\n Lista de frutas:')\n",
    "frutas = ['Maçã', 'Banana', 'Melão', 'Kiwi', 'Laranja', 'Maçã']\n",
    "print(frutas)\n"
   ]
  },
  {
   "cell_type": "markdown",
   "metadata": {
    "colab_type": "text",
    "id": "nTyav054iHyh"
   },
   "source": [
    "#### Acessando os items de uma lista:"
   ]
  },
  {
   "cell_type": "code",
   "execution_count": 56,
   "metadata": {
    "colab": {
     "base_uri": "https://localhost:8080/",
     "height": 104
    },
    "colab_type": "code",
    "id": "XYZk-loJhqSK",
    "outputId": "d4bf9888-2f24-44b5-82b0-c2f02987342c"
   },
   "outputs": [
    {
     "name": "stdout",
     "output_type": "stream",
     "text": [
      "Acessando item de uma lista\n",
      "\n",
      "Primeiro item de uma lista: Maçã\n",
      "Segundo item de uma lista: Banana\n",
      "Último item de uma lista: Maçã\n"
     ]
    }
   ],
   "source": [
    "print('Acessando item de uma lista\\n')\n",
    "print('Primeiro item de uma lista:', frutas[0])\n",
    "print('Segundo item de uma lista:', frutas[1])\n",
    "print('Último item de uma lista:', frutas[-1])"
   ]
  },
  {
   "cell_type": "markdown",
   "metadata": {
    "colab_type": "text",
    "id": "WfxfeXRFiUPC"
   },
   "source": [
    "#### Tamanho da Lista:"
   ]
  },
  {
   "cell_type": "code",
   "execution_count": 57,
   "metadata": {
    "colab": {
     "base_uri": "https://localhost:8080/",
     "height": 34
    },
    "colab_type": "code",
    "id": "Az3gdsQRiW9s",
    "outputId": "6455d509-64e5-4ff6-df3e-b33b737b76cb"
   },
   "outputs": [
    {
     "name": "stdout",
     "output_type": "stream",
     "text": [
      "Tamanho da lista: 6\n"
     ]
    }
   ],
   "source": [
    "print('Tamanho da lista:', len(frutas))"
   ]
  },
  {
   "cell_type": "markdown",
   "metadata": {
    "colab_type": "text",
    "id": "WAEhINmRllxz"
   },
   "source": [
    "#### Adicionando um item em uma lista"
   ]
  },
  {
   "cell_type": "code",
   "execution_count": 58,
   "metadata": {
    "colab": {
     "base_uri": "https://localhost:8080/",
     "height": 173
    },
    "colab_type": "code",
    "id": "xG71LIbRlq90",
    "outputId": "c4ffff42-0026-4a16-d662-ba2353dde126"
   },
   "outputs": [
    {
     "name": "stdout",
     "output_type": "stream",
     "text": [
      "Adicionando um item no final de uma lista:\n",
      "\n",
      "['Maçã', 'Banana', 'Melão', 'Kiwi', 'Laranja', 'Maçã']\n",
      "['Maçã', 'Banana', 'Melão', 'Kiwi', 'Laranja', 'Maçã', 'Carambola']\n",
      "\n",
      "Adicionando um item em uma posição específica de uma lista:\n",
      "\n",
      "['Maçã', 'Banana', 'Melão', 'Kiwi', 'Laranja', 'Maçã', 'Carambola']\n",
      "['Maçã', 'Banana', 'Caju', 'Melão', 'Kiwi', 'Laranja', 'Maçã', 'Carambola']\n"
     ]
    }
   ],
   "source": [
    "print('Adicionando um item no final de uma lista:\\n')\n",
    "print(frutas)\n",
    "frutas.append('Carambola')\n",
    "print(frutas)\n",
    "\n",
    "\n",
    "print('\\nAdicionando um item em uma posição específica de uma lista:\\n')\n",
    "print(frutas)\n",
    "frutas.insert(2, 'Caju')\n",
    "print(frutas)"
   ]
  },
  {
   "cell_type": "markdown",
   "metadata": {
    "colab_type": "text",
    "id": "nhZTN6Hrnu6t"
   },
   "source": [
    "#### Ordenando uma lista:\n"
   ]
  },
  {
   "cell_type": "code",
   "execution_count": 59,
   "metadata": {
    "colab": {
     "base_uri": "https://localhost:8080/",
     "height": 69
    },
    "colab_type": "code",
    "id": "8_Dw7Jg2nxvl",
    "outputId": "bd55306b-04a4-49d7-f08c-84a87dd19175"
   },
   "outputs": [
    {
     "name": "stdout",
     "output_type": "stream",
     "text": [
      "Ordenando uma lista em ordem alfabética\n",
      "['Maçã', 'Banana', 'Caju', 'Melão', 'Kiwi', 'Laranja', 'Maçã', 'Carambola']\n",
      "['Banana', 'Caju', 'Carambola', 'Kiwi', 'Laranja', 'Maçã', 'Maçã', 'Melão']\n"
     ]
    }
   ],
   "source": [
    "print('Ordenando uma lista em ordem alfabética')\n",
    "print(frutas)\n",
    "frutas.sort()\n",
    "print(frutas)"
   ]
  },
  {
   "cell_type": "markdown",
   "metadata": {
    "colab_type": "text",
    "id": "y_bpTD41B2t0"
   },
   "source": [
    "#### Fatiando listas\n"
   ]
  },
  {
   "cell_type": "markdown",
   "metadata": {
    "colab_type": "text",
    "id": "5PmzLR0jKsAk"
   },
   "source": [
    "![alt text](https://files.realpython.com/media/t.c11ea56e8ca2.png)"
   ]
  },
  {
   "cell_type": "code",
   "execution_count": 60,
   "metadata": {
    "colab": {
     "base_uri": "https://localhost:8080/",
     "height": 225
    },
    "colab_type": "code",
    "id": "3PfXzYLDGoq9",
    "outputId": "6919b73b-30eb-484c-ba83-fed1ce5fe069"
   },
   "outputs": [
    {
     "name": "stdout",
     "output_type": "stream",
     "text": [
      "\n",
      "Lista completa\n",
      "['Banana', 'Caju', 'Carambola', 'Kiwi', 'Laranja', 'Maçã', 'Maçã', 'Melão']\n",
      "\n",
      "Acessa os 3 primeiros items\n",
      "['Banana', 'Caju', 'Carambola']\n",
      "['Banana', 'Caju', 'Carambola']\n",
      "['Banana', 'Caju', 'Carambola']\n",
      "\n",
      "Acessa os 2 items do meio da lista\n",
      "['Kiwi', 'Laranja']\n",
      "\n",
      "Acessa os 3 ultimos items da lista\n",
      "['Maçã', 'Maçã', 'Melão']\n",
      "['Maçã', 'Maçã', 'Melão']\n"
     ]
    }
   ],
   "source": [
    "print('\\nLista completa')\n",
    "print(frutas)\n",
    "\n",
    "print('\\nAcessa os 3 primeiros items')\n",
    "print(frutas[0:3])\n",
    "print(frutas[:3])\n",
    "print(frutas[:-5])\n",
    "\n",
    "\n",
    "print('\\nAcessa os 2 items do meio da lista')\n",
    "print(frutas[3:5])\n",
    "\n",
    "\n",
    "print('\\nAcessa os 3 ultimos items da lista')\n",
    "print(frutas[5:])\n",
    "print(frutas[-3:])\n"
   ]
  }
 ],
 "metadata": {
  "colab": {
   "collapsed_sections": [],
   "name": "python_programming.ipynb",
   "provenance": [],
   "version": "0.3.2"
  },
  "kernelspec": {
   "display_name": "Python 3",
   "language": "python",
   "name": "python3"
  },
  "language_info": {
   "codemirror_mode": {
    "name": "ipython",
    "version": 3
   },
   "file_extension": ".py",
   "mimetype": "text/x-python",
   "name": "python",
   "nbconvert_exporter": "python",
   "pygments_lexer": "ipython3",
   "version": "3.7.3"
  }
 },
 "nbformat": 4,
 "nbformat_minor": 1
}
